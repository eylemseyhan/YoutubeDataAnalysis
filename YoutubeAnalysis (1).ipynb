{
 "cells": [
  {
   "cell_type": "markdown",
   "id": "4aa68863-3fdc-4608-9146-f38424ce8acf",
   "metadata": {},
   "source": [
    "# Text Data Analysis of YouTube\n"
   ]
  },
  {
   "cell_type": "code",
   "execution_count": 1,
   "id": "e648f37a",
   "metadata": {
    "scrolled": true
   },
   "outputs": [],
   "source": [
    "import pandas as pd #Datayı okumak, düzenlemek için.\n",
    "import numpy as np #Data hakkında matematiksel işlemler yapmak için.\n",
    "import matplotlib.pyplot as plt\n",
    "import seaborn as sns"
   ]
  },
  {
   "cell_type": "code",
   "execution_count": 2,
   "id": "9ce1918f-1095-4b49-a9bb-3cd6db95f977",
   "metadata": {},
   "outputs": [],
   "source": [
    "comments = pd.read_csv(r\"C:\\Users\\eylem\\Desktop\\YoutubeTextDataAnalysis\\UScomments.csv\",low_memory = False,on_bad_lines='skip')"
   ]
  },
  {
   "cell_type": "code",
   "execution_count": 3,
   "id": "2badee99-9f23-4c86-af32-df302cd146ea",
   "metadata": {},
   "outputs": [],
   "source": [
    "# on_bad_lines='skip' ile okuma sırasında hatalı veri içeren satırları atladık, low_memory = False ile bellek optimizasyonlarını devre dışı bıraktık."
   ]
  },
  {
   "cell_type": "code",
   "execution_count": 4,
   "id": "cb30668a-0577-4dd9-a4e7-edd0da65abf8",
   "metadata": {},
   "outputs": [
    {
     "data": {
      "text/html": [
       "<div>\n",
       "<style scoped>\n",
       "    .dataframe tbody tr th:only-of-type {\n",
       "        vertical-align: middle;\n",
       "    }\n",
       "\n",
       "    .dataframe tbody tr th {\n",
       "        vertical-align: top;\n",
       "    }\n",
       "\n",
       "    .dataframe thead th {\n",
       "        text-align: right;\n",
       "    }\n",
       "</style>\n",
       "<table border=\"1\" class=\"dataframe\">\n",
       "  <thead>\n",
       "    <tr style=\"text-align: right;\">\n",
       "      <th></th>\n",
       "      <th>video_id</th>\n",
       "      <th>comment_text</th>\n",
       "      <th>likes</th>\n",
       "      <th>replies</th>\n",
       "    </tr>\n",
       "  </thead>\n",
       "  <tbody>\n",
       "    <tr>\n",
       "      <th>0</th>\n",
       "      <td>XpVt6Z1Gjjo</td>\n",
       "      <td>Logan Paul it's yo big day ‼️‼️‼️</td>\n",
       "      <td>4</td>\n",
       "      <td>0</td>\n",
       "    </tr>\n",
       "    <tr>\n",
       "      <th>1</th>\n",
       "      <td>XpVt6Z1Gjjo</td>\n",
       "      <td>I've been following you from the start of your...</td>\n",
       "      <td>3</td>\n",
       "      <td>0</td>\n",
       "    </tr>\n",
       "    <tr>\n",
       "      <th>2</th>\n",
       "      <td>XpVt6Z1Gjjo</td>\n",
       "      <td>Say hi to Kong and maverick for me</td>\n",
       "      <td>3</td>\n",
       "      <td>0</td>\n",
       "    </tr>\n",
       "    <tr>\n",
       "      <th>3</th>\n",
       "      <td>XpVt6Z1Gjjo</td>\n",
       "      <td>MY FAN . attendance</td>\n",
       "      <td>3</td>\n",
       "      <td>0</td>\n",
       "    </tr>\n",
       "    <tr>\n",
       "      <th>4</th>\n",
       "      <td>XpVt6Z1Gjjo</td>\n",
       "      <td>trending 😉</td>\n",
       "      <td>3</td>\n",
       "      <td>0</td>\n",
       "    </tr>\n",
       "  </tbody>\n",
       "</table>\n",
       "</div>"
      ],
      "text/plain": [
       "      video_id                                       comment_text likes  \\\n",
       "0  XpVt6Z1Gjjo                  Logan Paul it's yo big day ‼️‼️‼️     4   \n",
       "1  XpVt6Z1Gjjo  I've been following you from the start of your...     3   \n",
       "2  XpVt6Z1Gjjo                 Say hi to Kong and maverick for me     3   \n",
       "3  XpVt6Z1Gjjo                                MY FAN . attendance     3   \n",
       "4  XpVt6Z1Gjjo                                         trending 😉     3   \n",
       "\n",
       "  replies  \n",
       "0       0  \n",
       "1       0  \n",
       "2       0  \n",
       "3       0  \n",
       "4       0  "
      ]
     },
     "execution_count": 4,
     "metadata": {},
     "output_type": "execute_result"
    }
   ],
   "source": [
    "comments.head()"
   ]
  },
  {
   "cell_type": "code",
   "execution_count": 5,
   "id": "c13eac81-502a-4508-9829-cfa8ea2ae7a9",
   "metadata": {},
   "outputs": [
    {
     "data": {
      "text/html": [
       "<div>\n",
       "<style scoped>\n",
       "    .dataframe tbody tr th:only-of-type {\n",
       "        vertical-align: middle;\n",
       "    }\n",
       "\n",
       "    .dataframe tbody tr th {\n",
       "        vertical-align: top;\n",
       "    }\n",
       "\n",
       "    .dataframe thead th {\n",
       "        text-align: right;\n",
       "    }\n",
       "</style>\n",
       "<table border=\"1\" class=\"dataframe\">\n",
       "  <thead>\n",
       "    <tr style=\"text-align: right;\">\n",
       "      <th></th>\n",
       "      <th>video_id</th>\n",
       "      <th>comment_text</th>\n",
       "      <th>likes</th>\n",
       "      <th>replies</th>\n",
       "    </tr>\n",
       "  </thead>\n",
       "  <tbody>\n",
       "    <tr>\n",
       "      <th>0</th>\n",
       "      <td>False</td>\n",
       "      <td>False</td>\n",
       "      <td>False</td>\n",
       "      <td>False</td>\n",
       "    </tr>\n",
       "    <tr>\n",
       "      <th>1</th>\n",
       "      <td>False</td>\n",
       "      <td>False</td>\n",
       "      <td>False</td>\n",
       "      <td>False</td>\n",
       "    </tr>\n",
       "    <tr>\n",
       "      <th>2</th>\n",
       "      <td>False</td>\n",
       "      <td>False</td>\n",
       "      <td>False</td>\n",
       "      <td>False</td>\n",
       "    </tr>\n",
       "    <tr>\n",
       "      <th>3</th>\n",
       "      <td>False</td>\n",
       "      <td>False</td>\n",
       "      <td>False</td>\n",
       "      <td>False</td>\n",
       "    </tr>\n",
       "    <tr>\n",
       "      <th>4</th>\n",
       "      <td>False</td>\n",
       "      <td>False</td>\n",
       "      <td>False</td>\n",
       "      <td>False</td>\n",
       "    </tr>\n",
       "    <tr>\n",
       "      <th>...</th>\n",
       "      <td>...</td>\n",
       "      <td>...</td>\n",
       "      <td>...</td>\n",
       "      <td>...</td>\n",
       "    </tr>\n",
       "    <tr>\n",
       "      <th>691395</th>\n",
       "      <td>False</td>\n",
       "      <td>False</td>\n",
       "      <td>False</td>\n",
       "      <td>False</td>\n",
       "    </tr>\n",
       "    <tr>\n",
       "      <th>691396</th>\n",
       "      <td>False</td>\n",
       "      <td>False</td>\n",
       "      <td>False</td>\n",
       "      <td>False</td>\n",
       "    </tr>\n",
       "    <tr>\n",
       "      <th>691397</th>\n",
       "      <td>False</td>\n",
       "      <td>False</td>\n",
       "      <td>False</td>\n",
       "      <td>False</td>\n",
       "    </tr>\n",
       "    <tr>\n",
       "      <th>691398</th>\n",
       "      <td>False</td>\n",
       "      <td>False</td>\n",
       "      <td>False</td>\n",
       "      <td>False</td>\n",
       "    </tr>\n",
       "    <tr>\n",
       "      <th>691399</th>\n",
       "      <td>False</td>\n",
       "      <td>False</td>\n",
       "      <td>False</td>\n",
       "      <td>False</td>\n",
       "    </tr>\n",
       "  </tbody>\n",
       "</table>\n",
       "<p>691400 rows × 4 columns</p>\n",
       "</div>"
      ],
      "text/plain": [
       "        video_id  comment_text  likes  replies\n",
       "0          False         False  False    False\n",
       "1          False         False  False    False\n",
       "2          False         False  False    False\n",
       "3          False         False  False    False\n",
       "4          False         False  False    False\n",
       "...          ...           ...    ...      ...\n",
       "691395     False         False  False    False\n",
       "691396     False         False  False    False\n",
       "691397     False         False  False    False\n",
       "691398     False         False  False    False\n",
       "691399     False         False  False    False\n",
       "\n",
       "[691400 rows x 4 columns]"
      ]
     },
     "execution_count": 5,
     "metadata": {},
     "output_type": "execute_result"
    }
   ],
   "source": [
    "comments.isnull()"
   ]
  },
  {
   "cell_type": "code",
   "execution_count": 6,
   "id": "3ff8aee9-3100-4901-9b0c-ed08a6688ea6",
   "metadata": {},
   "outputs": [],
   "source": [
    "# False değerler null olmayan veriler anlamına geliyor."
   ]
  },
  {
   "cell_type": "code",
   "execution_count": 7,
   "id": "55eb3a28-45f3-406a-9ab4-4d72f52193ed",
   "metadata": {},
   "outputs": [
    {
     "data": {
      "text/plain": [
       "video_id         0\n",
       "comment_text    26\n",
       "likes            0\n",
       "replies          0\n",
       "dtype: int64"
      ]
     },
     "execution_count": 7,
     "metadata": {},
     "output_type": "execute_result"
    }
   ],
   "source": [
    "comments.isnull().sum()"
   ]
  },
  {
   "cell_type": "code",
   "execution_count": 8,
   "id": "fb288902-d771-45af-b5bb-a75a8a406953",
   "metadata": {},
   "outputs": [],
   "source": [
    "# comment_text    26 boş değer olduğunu gördük."
   ]
  },
  {
   "cell_type": "markdown",
   "id": "541be1d8-aa6d-47c3-a2e1-ab225fd76307",
   "metadata": {},
   "source": [
    "\n"
   ]
  },
  {
   "cell_type": "code",
   "execution_count": 9,
   "id": "24bdb345-4656-4d24-9b45-63fcf3f89924",
   "metadata": {},
   "outputs": [],
   "source": [
    " comments.dropna(inplace=True) #Boş değerleri siler. inplace=True ile mevcut veri çerevesini değiştirir. Yeni oluşturmaz."
   ]
  },
  {
   "cell_type": "code",
   "execution_count": 10,
   "id": "67b14305-a727-4171-988f-f01976f0c03d",
   "metadata": {},
   "outputs": [
    {
     "data": {
      "text/plain": [
       "video_id        0\n",
       "comment_text    0\n",
       "likes           0\n",
       "replies         0\n",
       "dtype: int64"
      ]
     },
     "execution_count": 10,
     "metadata": {},
     "output_type": "execute_result"
    }
   ],
   "source": [
    "comments.isnull().sum()"
   ]
  },
  {
   "cell_type": "code",
   "execution_count": 11,
   "id": "f4bf822c-8e16-4482-a00c-db016ffb89bf",
   "metadata": {},
   "outputs": [],
   "source": [
    "# Şuanda hiç boş değerimiz yok."
   ]
  },
  {
   "cell_type": "markdown",
   "id": "95a6fa90-8b05-4929-882f-cbd846005c19",
   "metadata": {},
   "source": [
    "  ## Sentiment Analysis (Duygu Analizi)"
   ]
  },
  {
   "cell_type": "markdown",
   "id": "0b0f1b2c-15dd-47ba-9bfd-1b654da77dac",
   "metadata": {},
   "source": [
    "  ## Duygu özelliği çoğu zaman Polarity yani kutupluluk olarak adlandırılır. Bu kutuplar [-1,1] arasında olur. Bu genel bir ifadedir. Yeni özelliğimizin adı 'Polarity' olacak."
   ]
  },
  {
   "cell_type": "code",
   "execution_count": 12,
   "id": "afca8a22-0c01-491a-9664-617fa7e0d177",
   "metadata": {},
   "outputs": [],
   "source": [
    "## TextBlob paketini yükleyelim."
   ]
  },
  {
   "cell_type": "code",
   "execution_count": 13,
   "id": "f1c62fc2-b8bc-4a15-b454-ad3bc16c4335",
   "metadata": {},
   "outputs": [
    {
     "name": "stdout",
     "output_type": "stream",
     "text": [
      "Requirement already satisfied: textblob in c:\\users\\eylem\\anaconda3\\lib\\site-packages (0.18.0.post0)\n",
      "Requirement already satisfied: nltk>=3.8 in c:\\users\\eylem\\anaconda3\\lib\\site-packages (from textblob) (3.8.1)\n",
      "Requirement already satisfied: click in c:\\users\\eylem\\anaconda3\\lib\\site-packages (from nltk>=3.8->textblob) (8.1.7)\n",
      "Requirement already satisfied: joblib in c:\\users\\eylem\\anaconda3\\lib\\site-packages (from nltk>=3.8->textblob) (1.2.0)\n",
      "Requirement already satisfied: regex>=2021.8.3 in c:\\users\\eylem\\anaconda3\\lib\\site-packages (from nltk>=3.8->textblob) (2023.10.3)\n",
      "Requirement already satisfied: tqdm in c:\\users\\eylem\\anaconda3\\lib\\site-packages (from nltk>=3.8->textblob) (4.65.0)\n",
      "Requirement already satisfied: colorama in c:\\users\\eylem\\appdata\\roaming\\python\\python311\\site-packages (from click->nltk>=3.8->textblob) (0.4.6)\n"
     ]
    }
   ],
   "source": [
    "!pip install textblob\n"
   ]
  },
  {
   "cell_type": "code",
   "execution_count": 14,
   "id": "93a1c60a-acce-46ce-8ebe-ca79e6745f7b",
   "metadata": {},
   "outputs": [],
   "source": [
    "from textblob import TextBlob \n"
   ]
  },
  {
   "cell_type": "code",
   "execution_count": 15,
   "id": "b52174e3-ee39-4110-9ffd-7efb57229c9f",
   "metadata": {
    "scrolled": true
   },
   "outputs": [
    {
     "data": {
      "text/html": [
       "<div>\n",
       "<style scoped>\n",
       "    .dataframe tbody tr th:only-of-type {\n",
       "        vertical-align: middle;\n",
       "    }\n",
       "\n",
       "    .dataframe tbody tr th {\n",
       "        vertical-align: top;\n",
       "    }\n",
       "\n",
       "    .dataframe thead th {\n",
       "        text-align: right;\n",
       "    }\n",
       "</style>\n",
       "<table border=\"1\" class=\"dataframe\">\n",
       "  <thead>\n",
       "    <tr style=\"text-align: right;\">\n",
       "      <th></th>\n",
       "      <th>video_id</th>\n",
       "      <th>comment_text</th>\n",
       "      <th>likes</th>\n",
       "      <th>replies</th>\n",
       "    </tr>\n",
       "  </thead>\n",
       "  <tbody>\n",
       "    <tr>\n",
       "      <th>0</th>\n",
       "      <td>XpVt6Z1Gjjo</td>\n",
       "      <td>Logan Paul it's yo big day ‼️‼️‼️</td>\n",
       "      <td>4</td>\n",
       "      <td>0</td>\n",
       "    </tr>\n",
       "    <tr>\n",
       "      <th>1</th>\n",
       "      <td>XpVt6Z1Gjjo</td>\n",
       "      <td>I've been following you from the start of your...</td>\n",
       "      <td>3</td>\n",
       "      <td>0</td>\n",
       "    </tr>\n",
       "    <tr>\n",
       "      <th>2</th>\n",
       "      <td>XpVt6Z1Gjjo</td>\n",
       "      <td>Say hi to Kong and maverick for me</td>\n",
       "      <td>3</td>\n",
       "      <td>0</td>\n",
       "    </tr>\n",
       "    <tr>\n",
       "      <th>3</th>\n",
       "      <td>XpVt6Z1Gjjo</td>\n",
       "      <td>MY FAN . attendance</td>\n",
       "      <td>3</td>\n",
       "      <td>0</td>\n",
       "    </tr>\n",
       "    <tr>\n",
       "      <th>4</th>\n",
       "      <td>XpVt6Z1Gjjo</td>\n",
       "      <td>trending 😉</td>\n",
       "      <td>3</td>\n",
       "      <td>0</td>\n",
       "    </tr>\n",
       "  </tbody>\n",
       "</table>\n",
       "</div>"
      ],
      "text/plain": [
       "      video_id                                       comment_text likes  \\\n",
       "0  XpVt6Z1Gjjo                  Logan Paul it's yo big day ‼️‼️‼️     4   \n",
       "1  XpVt6Z1Gjjo  I've been following you from the start of your...     3   \n",
       "2  XpVt6Z1Gjjo                 Say hi to Kong and maverick for me     3   \n",
       "3  XpVt6Z1Gjjo                                MY FAN . attendance     3   \n",
       "4  XpVt6Z1Gjjo                                         trending 😉     3   \n",
       "\n",
       "  replies  \n",
       "0       0  \n",
       "1       0  \n",
       "2       0  \n",
       "3       0  \n",
       "4       0  "
      ]
     },
     "execution_count": 15,
     "metadata": {},
     "output_type": "execute_result"
    }
   ],
   "source": [
    "comments.head()"
   ]
  },
  {
   "cell_type": "code",
   "execution_count": 16,
   "id": "159cd7d9-4cf9-4aba-bbfb-b31d9395f82a",
   "metadata": {},
   "outputs": [
    {
     "data": {
      "text/plain": [
       "(691374, 4)"
      ]
     },
     "execution_count": 16,
     "metadata": {},
     "output_type": "execute_result"
    }
   ],
   "source": [
    "comments.shape #Bu çok büyük bir veri"
   ]
  },
  {
   "cell_type": "code",
   "execution_count": 17,
   "id": "c22bd67c-e920-4c9f-a1d1-09c9c0052b7e",
   "metadata": {},
   "outputs": [],
   "source": [
    "sample_df = comments[0:50]"
   ]
  },
  {
   "cell_type": "code",
   "execution_count": 18,
   "id": "c769a728-7a04-4f1e-8c91-d5954464f06c",
   "metadata": {},
   "outputs": [
    {
     "data": {
      "text/plain": [
       "(50, 4)"
      ]
     },
     "execution_count": 18,
     "metadata": {},
     "output_type": "execute_result"
    }
   ],
   "source": [
    "sample_df.shape"
   ]
  },
  {
   "cell_type": "code",
   "execution_count": null,
   "id": "4ffc2687-0c9b-413e-ac1a-e770038a897d",
   "metadata": {},
   "outputs": [],
   "source": [
    "polarity = []\n",
    "for comment in comments[\"comment_text\"]:\n",
    "    try:\n",
    "        polarity.append(TextBlob(comment).sentiment.polarity)\n",
    "    except:\n",
    "        polarity.append(0)"
   ]
  },
  {
   "cell_type": "code",
   "execution_count": null,
   "id": "b381982d-0e0a-4181-8522-98ade9357989",
   "metadata": {},
   "outputs": [],
   "source": [
    "comments['polarity'] = polarity"
   ]
  },
  {
   "cell_type": "code",
   "execution_count": null,
   "id": "c22a8bda-48b6-4032-81d4-bbe357fb06f2",
   "metadata": {},
   "outputs": [],
   "source": [
    "comments.head(15)"
   ]
  },
  {
   "cell_type": "markdown",
   "id": "f4021c90-5768-4617-80ea-bc7784143e78",
   "metadata": {},
   "source": [
    "# Wordcloud Analysis (Kelime Bulutu)"
   ]
  },
  {
   "cell_type": "markdown",
   "id": "cb908837-367e-44cb-85b7-7ef507adcdec",
   "metadata": {},
   "source": [
    "## Wordcloud analizi, metin verilerinin görselleştirilmesi için kullanılan etkili bir yöntemdir. Metinlerde en sık geçen kelimelerin görsel olarak temsil edilmesini sağlar. Bu analiz, bir metnin içeriğini hızlıca görsel olarak anlamak için kullanılır ve genellikle metin madenciliği ve duygu analizi gibi alanlarda yaygın olarak kullanılır.\r\n"
   ]
  },
  {
   "cell_type": "code",
   "execution_count": null,
   "id": "df2a95ff-8d16-4e8e-90d4-c87d79651e5d",
   "metadata": {},
   "outputs": [],
   "source": [
    "filter_positive = comments[\"polarity\"]==1"
   ]
  },
  {
   "cell_type": "code",
   "execution_count": null,
   "id": "0c8b0cea-7d83-485a-8ee4-22403bbd8d17",
   "metadata": {},
   "outputs": [],
   "source": [
    "positive = comments[filter_positive]"
   ]
  },
  {
   "cell_type": "code",
   "execution_count": null,
   "id": "a0e579e9-0100-43ef-8929-68fde6e5f437",
   "metadata": {},
   "outputs": [],
   "source": [
    "positive.head(5)"
   ]
  },
  {
   "cell_type": "code",
   "execution_count": null,
   "id": "77c4a227-2487-48b7-9959-442f68d007b2",
   "metadata": {},
   "outputs": [],
   "source": [
    "filter_negative = comments[\"polarity\"]==-1"
   ]
  },
  {
   "cell_type": "code",
   "execution_count": null,
   "id": "a4cce610-777f-47ff-a3c9-c8a37a12ff50",
   "metadata": {},
   "outputs": [],
   "source": [
    "negative = comments[filter_negative]"
   ]
  },
  {
   "cell_type": "code",
   "execution_count": null,
   "id": "005473a6-95a5-4010-a583-010cd8053d5f",
   "metadata": {},
   "outputs": [],
   "source": [
    "negative.head(5)"
   ]
  },
  {
   "cell_type": "code",
   "execution_count": null,
   "id": "a9dcf01a-59a9-4887-9988-9b553afedf2d",
   "metadata": {},
   "outputs": [],
   "source": [
    "from wordcloud import WordCloud, STOPWORDS #STOPWORDS burada is,the gibi anlamsız kelimelere karşılık geliyor. Bu kelimeler analizimize hiçbir anlam katmaz."
   ]
  },
  {
   "cell_type": "code",
   "execution_count": null,
   "id": "76390aee-f39d-4a4d-a4c1-f08598426d7d",
   "metadata": {},
   "outputs": [],
   "source": [
    "comments['comment_text']"
   ]
  },
  {
   "cell_type": "code",
   "execution_count": null,
   "id": "768347ee-ff1b-4053-a2f7-f2eecfaa7738",
   "metadata": {},
   "outputs": [],
   "source": [
    "type(comments['comment_text'])"
   ]
  },
  {
   "cell_type": "code",
   "execution_count": null,
   "id": "635869c6-11cf-4a7d-8fbd-eedcb402973e",
   "metadata": {},
   "outputs": [],
   "source": [
    "#Word cloud analiz için stringe çevirmeliyiz, Series data tipindeler."
   ]
  },
  {
   "cell_type": "code",
   "execution_count": null,
   "id": "8cc6876a-ae95-4f5d-95a9-275d2bfcd605",
   "metadata": {},
   "outputs": [],
   "source": [
    "comments_string = positive['comment_text'].to_string(index=False)"
   ]
  },
  {
   "cell_type": "code",
   "execution_count": null,
   "id": "dacf64e4-285a-4e3f-9cd8-2c5ed07ab875",
   "metadata": {},
   "outputs": [],
   "source": [
    "comments_string_neg = negative['comment_text'].to_string(index=False)"
   ]
  },
  {
   "cell_type": "code",
   "execution_count": null,
   "id": "db663cad-b370-428f-aecc-fbb304c5a034",
   "metadata": {},
   "outputs": [],
   "source": []
  },
  {
   "cell_type": "code",
   "execution_count": null,
   "id": "7df35b02-7fcf-4575-bacb-758d34828c50",
   "metadata": {},
   "outputs": [],
   "source": [
    "print(comments_string[0:1000])"
   ]
  },
  {
   "cell_type": "code",
   "execution_count": null,
   "id": "27725f4c-7780-4bc3-9822-325c793b5731",
   "metadata": {},
   "outputs": [],
   "source": [
    "set(STOPWORDS)"
   ]
  },
  {
   "cell_type": "code",
   "execution_count": null,
   "id": "0cbc0d47-2dc3-48ea-92ce-b02a2c092969",
   "metadata": {},
   "outputs": [],
   "source": [
    "font_path = r\"C:\\Users\\eylem\\AppData\\Local\\Microsoft\\Windows\\Fonts\\KeeponTruckin.ttf\" #fontu değiştirdik"
   ]
  },
  {
   "cell_type": "code",
   "execution_count": null,
   "id": "3f6c88c8-9b52-4624-8606-d17247c2097e",
   "metadata": {},
   "outputs": [],
   "source": [
    "word_cloud = WordCloud(stopwords=set(STOPWORDS),font_path=font_path,colormap='summer').generate(comments_string)"
   ]
  },
  {
   "cell_type": "code",
   "execution_count": null,
   "id": "b235f003-6282-4019-8d39-fb1e696d3d38",
   "metadata": {},
   "outputs": [],
   "source": [
    "word_cloud_neg = WordCloud(stopwords=set(STOPWORDS),font_path=font_path,colormap='autumn').generate(comments_string_neg)"
   ]
  },
  {
   "cell_type": "code",
   "execution_count": null,
   "id": "2ea0223e-b9fa-45f9-8a75-4c3539d4fd37",
   "metadata": {},
   "outputs": [],
   "source": [
    "plt.imshow(word_cloud)\n",
    "plt.axis('off') # Eksenleri kapatır"
   ]
  },
  {
   "cell_type": "code",
   "execution_count": null,
   "id": "82594f00-7542-427d-b77c-222c543a5cab",
   "metadata": {},
   "outputs": [],
   "source": [
    "plt.imshow(word_cloud_neg)\n",
    "plt.axis('off') # Eksenleri kapatır"
   ]
  },
  {
   "cell_type": "markdown",
   "id": "6723ee4f-d8a9-46d5-b5b0-fdfcbc48d364",
   "metadata": {},
   "source": [
    "# Perform Emoji's Analysis"
   ]
  },
  {
   "cell_type": "markdown",
   "id": "2acf02d6-db03-427b-b630-79ca3761751b",
   "metadata": {},
   "source": [
    "##  Emoji analizi, metinlerde kullanılan emoji karakterlerinin anlamını ve duygusal içeriğini değerlendiren bir analiz türüdür. Metin madenciliği ve duygu analizi gibi alanlarda kullanılır. Emoji'ler genellikle duygusal ifadeleri ve mesajların tonunu iletmek için kullanılır ve metin analizinde önemli bir rol oynarlar.\n",
    "## Bu kısımda emojilerin kaç defa geçtiğini analiz edip görselleştireceğiz.\n",
    "\n"
   ]
  },
  {
   "cell_type": "code",
   "execution_count": null,
   "id": "36e896fc-52ed-4987-8178-974bf6dd4f62",
   "metadata": {},
   "outputs": [],
   "source": [
    "import emoji"
   ]
  },
  {
   "cell_type": "code",
   "execution_count": null,
   "id": "a757d041-82ac-4da1-9c1d-af212c4ca9d9",
   "metadata": {},
   "outputs": [],
   "source": [
    "emoji.__version__"
   ]
  },
  {
   "cell_type": "code",
   "execution_count": null,
   "id": "57c0e1e5-e183-402d-a77d-a786f0a1a089",
   "metadata": {},
   "outputs": [],
   "source": [
    "comments[\"comment_text\"].head(6)"
   ]
  },
  {
   "cell_type": "code",
   "execution_count": null,
   "id": "9d5f9be4-ea9d-43d2-9170-a637b7610a32",
   "metadata": {},
   "outputs": [],
   "source": [
    "#Emojiyi string ifadenin içinden çıkarmamız gerekir. Örneğin 4 indexli yorumumuzda deneyelim."
   ]
  },
  {
   "cell_type": "code",
   "execution_count": null,
   "id": "653227cc-a953-4c93-a25f-0f87317bc998",
   "metadata": {},
   "outputs": [],
   "source": [
    "# comment = \"trending 😉\""
   ]
  },
  {
   "cell_type": "code",
   "execution_count": null,
   "id": "a619fd70-1167-4bde-b68c-23bdf6beb0ea",
   "metadata": {},
   "outputs": [],
   "source": [
    "\"\"\"emojis_list = []\n",
    "for char in comment:\n",
    "    if char in emoji.EMOJI_DATA:\n",
    "        emojis_list.append(char)\"\"\"\n",
    "        "
   ]
  },
  {
   "cell_type": "code",
   "execution_count": null,
   "id": "c9575961-aaf2-4c40-b6c3-4d7d433d35dd",
   "metadata": {},
   "outputs": [],
   "source": [
    "# print(emojis_list)"
   ]
  },
  {
   "cell_type": "code",
   "execution_count": null,
   "id": "fc37a8dd-f71d-45f6-afd3-345950f6dc6e",
   "metadata": {},
   "outputs": [],
   "source": [
    "emojis_list = []\n",
    "for char in comments[\"comment_text\"].dropna():\n",
    "    if char in emoji.EMOJI_DATA:\n",
    "        emojis_list.append(char)"
   ]
  },
  {
   "cell_type": "code",
   "execution_count": null,
   "id": "cba9929e-bccd-4c7a-9f10-18af54e9c81e",
   "metadata": {},
   "outputs": [],
   "source": [
    "emojis_list[0:10]"
   ]
  },
  {
   "cell_type": "code",
   "execution_count": null,
   "id": "8e4b1df3-82dc-4172-a057-e9aac7e64d79",
   "metadata": {},
   "outputs": [],
   "source": [
    "#Kaç defa geçtiğini görmek için daha verimli ve kullanımı kolay bir arayüz sunan collections modülünü kullanacağız."
   ]
  },
  {
   "cell_type": "code",
   "execution_count": null,
   "id": "ebd92807-387a-466c-81d1-ea98406c3e5e",
   "metadata": {},
   "outputs": [],
   "source": [
    "from collections import Counter"
   ]
  },
  {
   "cell_type": "code",
   "execution_count": null,
   "id": "8d6ff530-d421-4a76-8100-a811eaed2c96",
   "metadata": {},
   "outputs": [],
   "source": [
    "Counter(emojis_list).most_common(10)"
   ]
  },
  {
   "cell_type": "code",
   "execution_count": null,
   "id": "c3db7b54-c558-4269-8e53-4151417bd750",
   "metadata": {},
   "outputs": [],
   "source": [
    "#Şimdi bunları 2 listeye bölmem gerek."
   ]
  },
  {
   "cell_type": "code",
   "execution_count": null,
   "id": "18c59798-e1ae-436d-9212-7d6168d8ecd3",
   "metadata": {},
   "outputs": [],
   "source": [
    "Counter(emojis_list).most_common(10)[0]"
   ]
  },
  {
   "cell_type": "code",
   "execution_count": null,
   "id": "f5c33b83-f7d1-4448-a894-d7b00c355e7e",
   "metadata": {},
   "outputs": [],
   "source": [
    "Counter(emojis_list).most_common(10)[0][0]"
   ]
  },
  {
   "cell_type": "code",
   "execution_count": null,
   "id": "40335299-dd37-44df-a1b1-6ea7b90be9fb",
   "metadata": {},
   "outputs": [],
   "source": [
    "Counter(emojis_list).most_common(10)[1][0]"
   ]
  },
  {
   "cell_type": "code",
   "execution_count": null,
   "id": "c0781bba-39c1-4df8-8bca-246a4f8ba37c",
   "metadata": {},
   "outputs": [],
   "source": [
    "Counter(emojis_list).most_common(10)[2][0]"
   ]
  },
  {
   "cell_type": "code",
   "execution_count": null,
   "id": "a40ead8d-d4a8-48ac-9f4b-e506bddd96ea",
   "metadata": {},
   "outputs": [],
   "source": [
    "Counter(emojis_list).most_common(10)[0][1]"
   ]
  },
  {
   "cell_type": "code",
   "execution_count": null,
   "id": "82cc8766-ccbd-4068-835e-8d826ac1296b",
   "metadata": {},
   "outputs": [],
   "source": [
    "Counter(emojis_list).most_common(10)[1][1]"
   ]
  },
  {
   "cell_type": "code",
   "execution_count": null,
   "id": "4ba89f54-f840-479c-acc3-2d756dcdc40d",
   "metadata": {},
   "outputs": [],
   "source": [
    "Counter(emojis_list).most_common(10)[2][1]"
   ]
  },
  {
   "cell_type": "code",
   "execution_count": null,
   "id": "1d554fbe-f136-40f8-865f-9f3fcd0aad8a",
   "metadata": {},
   "outputs": [],
   "source": []
  },
  {
   "cell_type": "code",
   "execution_count": null,
   "id": "e0e20b1a-bdc0-4be9-8110-54597a3e1ddf",
   "metadata": {},
   "outputs": [],
   "source": [
    "emojis = [Counter(emojis_list).most_common(10)[i][0] for i in range(10)]\n",
    "freqs = [Counter(emojis_list).most_common(10)[i][1] for i in range(10)]\n",
    "    "
   ]
  },
  {
   "cell_type": "code",
   "execution_count": null,
   "id": "1a241d4d-a207-4ebd-9856-db78357ac2c1",
   "metadata": {},
   "outputs": [],
   "source": [
    "# Şimdi 2 ayrı listem var emojiler ve sıklıklar adında. Şimdi Bar Chart'ı kolayca oluşturabilirim.\n"
   ]
  },
  {
   "cell_type": "code",
   "execution_count": null,
   "id": "bd603ba1-cb2c-44f1-a6a7-91fff0a24645",
   "metadata": {},
   "outputs": [],
   "source": [
    "import plotly.graph_objs as go\n",
    "\n",
    "from plotly.offline import iplot"
   ]
  },
  {
   "cell_type": "code",
   "execution_count": null,
   "id": "8fe66050-c680-4dd0-8ac4-d4cec470698e",
   "metadata": {},
   "outputs": [],
   "source": [
    "layout = go.Layout(\n",
    "    title='Emoji Frequents',  # Grafik başlığı\n",
    "    xaxis=dict(title='Emojiler'),  # X eksen başlığı\n",
    "    yaxis=dict(title='Sıklıkları'),  # Y eksen başlığı\n",
    ")"
   ]
  },
  {
   "cell_type": "code",
   "execution_count": null,
   "id": "a68da39e-fd79-483b-a826-0b7e15768274",
   "metadata": {},
   "outputs": [],
   "source": [
    "chart = go.Bar(x=emojis,y=freqs,marker=dict(color='rgb(255, 102, 102)',))"
   ]
  },
  {
   "cell_type": "code",
   "execution_count": null,
   "id": "45aa29fe-35e5-4be2-bcae-ed2b48f73de2",
   "metadata": {},
   "outputs": [],
   "source": [
    "# Grafiği görüntüleme\n",
    "iplot([chart])"
   ]
  },
  {
   "cell_type": "markdown",
   "id": "dc6dbc59-74ba-49c3-87bd-0809b095ba74",
   "metadata": {},
   "source": [
    "# Collecting Entire Data of YouTube : Data Collection"
   ]
  },
  {
   "cell_type": "markdown",
   "id": "4c6b1488-8ac6-4863-95d0-31a2e633aaf9",
   "metadata": {},
   "source": [
    " Python'da yerel bilgisayarımızdaki dosya sistemleriyle etkileşim kurmak için os modülünü kullanabiliriz."
   ]
  },
  {
   "cell_type": "code",
   "execution_count": null,
   "id": "77a5f975-72cf-4dc0-bd0f-333733ea2060",
   "metadata": {},
   "outputs": [],
   "source": [
    "import os"
   ]
  },
  {
   "cell_type": "markdown",
   "id": "0d960851-95f5-4c34-98db-6dcb44d1d71f",
   "metadata": {},
   "source": [
    " Mevcut çalışma dizininde bulunan tüm dosya ve klasörlerin bir listesini döndüren listdir() fonksiyonuna bakalım."
   ]
  },
  {
   "cell_type": "code",
   "execution_count": null,
   "id": "fd5d300a-1fa7-47eb-9f5f-e3e017131548",
   "metadata": {},
   "outputs": [],
   "source": [
    "files = os.listdir(r\"C:\\Users\\eylem\\Desktop\\YoutubeTextDataAnalysis\\additional_data\")"
   ]
  },
  {
   "cell_type": "code",
   "execution_count": null,
   "id": "7ae80b1e-5811-4e50-b89e-e5daf0a85e2a",
   "metadata": {},
   "outputs": [],
   "source": [
    "files"
   ]
  },
  {
   "cell_type": "markdown",
   "id": "2893aa1d-ca71-42a9-b665-23c09246368c",
   "metadata": {},
   "source": [
    "2 çeşit dosyamız var\n",
    "1)JSON --> key:value ile ayrılmış datalar\n",
    "2)CSV --> virgüller ile ayrılmış datalar\n",
    "2 dosya da aynı içeriğe sahiptir."
   ]
  },
  {
   "cell_type": "code",
   "execution_count": null,
   "id": "9708db28-187c-49dd-8b41-5c899a4957a5",
   "metadata": {},
   "outputs": [],
   "source": [
    "files_csv = [file for file in files if '.csv' in file]"
   ]
  },
  {
   "cell_type": "markdown",
   "id": "6d8551ad-86f4-4f74-af78-6852faa9d521",
   "metadata": {},
   "source": [
    "[yeni_öğe for öğe in liste if koşul]\r",
    "Bu yapı, bir listedeki dosya isimlerini filtrelemek için kullanılan bir Python listesi üreteci (list comprehension) yapısıdır. List comprehension, bir listeden yeni bir liste oluşturmak için kullanılan kısa ve okunaklı bir Python özelliğidir. Yani burada, csv formatlı dosyalarımızdan yeni bir liste oluşturduk.\n"
   ]
  },
  {
   "cell_type": "code",
   "execution_count": null,
   "id": "8065cc0b-ed66-4e8a-8bed-99a476de3be7",
   "metadata": {},
   "outputs": [],
   "source": [
    "files_csv"
   ]
  },
  {
   "cell_type": "code",
   "execution_count": null,
   "id": "eb0b5ca5-fa08-4267-bcc0-6ddb0eb96367",
   "metadata": {},
   "outputs": [],
   "source": [
    "full_df = pd.DataFrame() # içi boş df\n",
    "path = r\"C:\\Users\\eylem\\Desktop\\YoutubeTextDataAnalysis\\additional_data\"\n",
    "for file in files_csv:\n",
    "    current_df = pd.read_csv(path+\"/\"+file,encoding=\"iso-8859-1\",on_bad_lines='skip')\n",
    "    \n",
    "    full_df = pd.concat([full_df,current_df],ignore_index = True)"
   ]
  },
  {
   "cell_type": "markdown",
   "id": "650b0e40-f7a1-491a-a42a-de027f0eeaed",
   "metadata": {},
   "source": [
    "Bu veri seti, çeşitli ülkelerden gelen metin içeriğini içermektedir. Örneğin; Türkçe metinlerde sıkça kullanılan İ, Ş, Ğ, Ç, Ü, Ö gibi Türk alfabesine özgü harfler, Latin alfabesinde doğrudan bulunmaz. Bu harfler, Türkçe metinlerin kodlanması için genellikle iso-8859-9 kodlaması kullanılır. İlgili dillerin metinlerinin doğru şekilde kodlanması için özel karakter kodlamaları gerektirebilir."
   ]
  },
  {
   "cell_type": "markdown",
   "id": "c7a1c4be-8b75-4ae5-87f4-99f05d160bd1",
   "metadata": {},
   "source": [
    "pd.concat() fonksiyonu, Pandas kütüphanesinde kullanılan ve veri birleştirme işlemlerini gerçekleştirmek için kullanılan bir fonksiyondur. ignore_index=True olarak ayarlandığında, birleştirilen verilerin dizin etiketleri yok sayılır ve yeni bir dizi etiketi oluşturulur."
   ]
  },
  {
   "cell_type": "code",
   "execution_count": null,
   "id": "e82c4cbd-8f13-4557-a6d7-e3911f84e5e2",
   "metadata": {},
   "outputs": [],
   "source": [
    "full_df.duplicated() "
   ]
  },
  {
   "cell_type": "code",
   "execution_count": null,
   "id": "a97fdcd8-5d11-4256-b5a4-ffc1707b67e4",
   "metadata": {},
   "outputs": [],
   "source": [
    "full_df = full_df.drop_duplicates()"
   ]
  },
  {
   "cell_type": "code",
   "execution_count": null,
   "id": "af342493-54ec-4caa-82b8-60a2f6f9e5fd",
   "metadata": {},
   "outputs": [],
   "source": [
    "full_df.shape"
   ]
  },
  {
   "cell_type": "code",
   "execution_count": null,
   "id": "3326fbe4-b118-4da9-9cf0-f26449fdc468",
   "metadata": {},
   "outputs": [],
   "source": [
    "full_df[0:1000].to_csv(r\"C:\\Users\\eylem\\Desktop\\YoutubeTextDataAnalysis\\export_data/youtube_sample.csv\",index=False)"
   ]
  },
  {
   "cell_type": "markdown",
   "id": "934f2a89-bc90-45dd-a325-5277a6baecf4",
   "metadata": {},
   "source": [
    "index=False yazdık çünkü DataFrame'deki satır indekslerinin CSV dosyasına yazılmasını istemiyoruz"
   ]
  },
  {
   "cell_type": "code",
   "execution_count": null,
   "id": "3a9a8745-1554-4832-9ee8-2842a199c039",
   "metadata": {},
   "outputs": [],
   "source": [
    "full_df[0:1000].to_json(r\"C:\\Users\\eylem\\Desktop\\YoutubeTextDataAnalysis\\export_data/youtube_sample.json\")"
   ]
  },
  {
   "cell_type": "code",
   "execution_count": null,
   "id": "5ca05332-0c98-4780-b168-7241ea9bf689",
   "metadata": {},
   "outputs": [],
   "source": [
    "from  sqlalchemy import create_engine "
   ]
  },
  {
   "cell_type": "markdown",
   "id": "177e07c1-824d-4a10-95a8-8ce973e913f1",
   "metadata": {},
   "source": [
    "SQL veritabanı için bir bağlantı oluşturmak için \"create engine\" ifadesi genellikle  SQLAlchemy kütüphanesi kullanılarak kullanılır."
   ]
  },
  {
   "cell_type": "code",
   "execution_count": null,
   "id": "310f7744-1b99-49eb-8d37-a8f231926ef7",
   "metadata": {},
   "outputs": [],
   "source": [
    "engine = create_engine(r\"sqlite:///C:\\Users\\eylem\\Desktop\\YoutubeTextDataAnalysis\\export_data/youtube_sample.sqlite\")"
   ]
  },
  {
   "cell_type": "markdown",
   "id": "193915cb-77d1-4a67-8198-302e3e5196c9",
   "metadata": {},
   "source": [
    "create_engine() fonksiyonu ile bir SQLite veritabanı motoru oluşturuyoruz. "
   ]
  },
  {
   "cell_type": "code",
   "execution_count": null,
   "id": "d476d7a3-3a06-49fe-a6c4-9f5cc143b37c",
   "metadata": {},
   "outputs": [],
   "source": [
    "full_df[0:1000].to_sql(name=\"Users\",con=engine,if_exists = 'replace')"
   ]
  },
  {
   "cell_type": "markdown",
   "id": "476feea4-46bc-47e4-b996-14b7df81e238",
   "metadata": {},
   "source": [
    "full_df DataFrame'inin ilk 1000 satırını \"Users\" adlı bir tabloya aktarıyoruz. Varolan bir tablo ile aynı isimde bir tablo bulunduğunda, if_exists='replace' parametresi sayesinde bu tabloyu değiştiriyoruz."
   ]
  },
  {
   "cell_type": "markdown",
   "id": "60613569-59f8-4cae-b334-e27042854f74",
   "metadata": {},
   "source": [
    "# Analysing The Most Liked Category\n"
   ]
  },
  {
   "cell_type": "code",
   "execution_count": null,
   "id": "180aeb1f-c2d6-4cde-a8db-33182b5b309b",
   "metadata": {},
   "outputs": [],
   "source": [
    "full_df.head(5)"
   ]
  },
  {
   "cell_type": "markdown",
   "id": "3ce3e445-bdc5-43d5-a476-91215b37c6a3",
   "metadata": {},
   "source": [
    "En çok beğenilen kategoriyi analiz etmek için, kategori ismi adında bir sütuna sahip olmadığımızı görüyoruz. category_id adlı sütunumuz bize yol gösterecek."
   ]
  },
  {
   "cell_type": "code",
   "execution_count": null,
   "id": "b3f812c8-cfad-4844-9d3e-487a9094e4dd",
   "metadata": {},
   "outputs": [],
   "source": [
    "full_df[\"category_id\"].unique()"
   ]
  },
  {
   "cell_type": "code",
   "execution_count": null,
   "id": "bc96d465-8db6-414b-830d-d76493cf34ba",
   "metadata": {},
   "outputs": [],
   "source": [
    "json_df = pd.read_json(r\"C:\\Users\\eylem\\Desktop\\YoutubeTextDataAnalysis\\additional_data/US_category_id.json\")"
   ]
  },
  {
   "cell_type": "code",
   "execution_count": null,
   "id": "fcc27884-ab2d-43df-8370-48ab14bbc632",
   "metadata": {},
   "outputs": [],
   "source": [
    "json_df"
   ]
  },
  {
   "cell_type": "code",
   "execution_count": null,
   "id": "8067919a-1b33-435e-8cd2-665d6c1f2366",
   "metadata": {},
   "outputs": [],
   "source": [
    "json_df[\"items\"]"
   ]
  },
  {
   "cell_type": "code",
   "execution_count": null,
   "id": "c5ee36d0-60e7-4347-999e-585cdfea72ec",
   "metadata": {},
   "outputs": [],
   "source": [
    "json_df[\"items\"][0]"
   ]
  },
  {
   "cell_type": "code",
   "execution_count": null,
   "id": "adbafe3c-439f-42e3-bf7c-4ee3e2f3ef53",
   "metadata": {},
   "outputs": [],
   "source": [
    "json_df[\"items\"][1]"
   ]
  },
  {
   "cell_type": "code",
   "execution_count": null,
   "id": "eb9eb692-16b7-4dd2-8b2c-4c9fbe4eff09",
   "metadata": {},
   "outputs": [],
   "source": [
    "blank_dict = {}"
   ]
  },
  {
   "cell_type": "code",
   "execution_count": null,
   "id": "023649c0-564d-4a98-9ceb-72301261ff1a",
   "metadata": {},
   "outputs": [],
   "source": [
    "for item in json_df[\"items\"].values:\n",
    "    blank_dict[int(item[\"id\"])] = item[\"snippet\"][\"title\"]"
   ]
  },
  {
   "cell_type": "code",
   "execution_count": null,
   "id": "13b58bd6-99b8-4321-ae6f-d64789faf742",
   "metadata": {},
   "outputs": [],
   "source": [
    "blank_dict"
   ]
  },
  {
   "cell_type": "code",
   "execution_count": null,
   "id": "22b5e19a-9bfa-4dfa-8310-fe691edef430",
   "metadata": {},
   "outputs": [],
   "source": [
    "full_df[\"category_name\"] = full_df[\"category_id\"].map(blank_dict)"
   ]
  },
  {
   "cell_type": "code",
   "execution_count": null,
   "id": "6c9c2f38-089b-456e-b889-15f11bdb7ca9",
   "metadata": {},
   "outputs": [],
   "source": [
    "full_df.head(5)"
   ]
  },
  {
   "cell_type": "markdown",
   "id": "9dd830d6-ca85-4d4e-aafe-ee366151f914",
   "metadata": {},
   "source": [
    "Şimdi bar grafiği ile en çok beğenilen kategoriyi bulalım."
   ]
  },
  {
   "cell_type": "code",
   "execution_count": null,
   "id": "b3eba250-2940-4e89-8233-4abaa66e4e0b",
   "metadata": {},
   "outputs": [],
   "source": [
    "total_likes_by_category = full_df.groupby('category_name')[\"likes\"].sum()"
   ]
  },
  {
   "cell_type": "code",
   "execution_count": null,
   "id": "bc401864-8e22-4b30-b9be-249342f31415",
   "metadata": {},
   "outputs": [],
   "source": [
    "plt.figure(figsize=(10, 6))\n",
    "palette = sns.color_palette(\"RdYlGn\", len(total_likes_by_category))\n",
    "total_likes_by_category.plot(kind='barh', color=palette)\n",
    "plt.title('En Çok Beğenilen Kategoriler')\n",
    "plt.ylabel('Kategori Adı')\n",
    "plt.grid(axis='x', linestyle='--', alpha=0.7)\n",
    "plt.tight_layout()\n",
    "# x eksenindeki etiketleri devre dışı bırak\n",
    "plt.xticks([])"
   ]
  }
 ],
 "metadata": {
  "kernelspec": {
   "display_name": "myenv",
   "language": "python",
   "name": "myenv"
  },
  "language_info": {
   "codemirror_mode": {
    "name": "ipython",
    "version": 3
   },
   "file_extension": ".py",
   "mimetype": "text/x-python",
   "name": "python",
   "nbconvert_exporter": "python",
   "pygments_lexer": "ipython3",
   "version": "3.11.5"
  }
 },
 "nbformat": 4,
 "nbformat_minor": 5
}
